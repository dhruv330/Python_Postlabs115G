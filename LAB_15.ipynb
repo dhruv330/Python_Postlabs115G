{
 "cells": [
  {
   "cell_type": "code",
   "execution_count": 1,
   "id": "cb7d2d4f",
   "metadata": {},
   "outputs": [
    {
     "name": "stdout",
     "output_type": "stream",
     "text": [
      "\n",
      "All Student Records:\n",
      "(92510133030, 'Dhruv Gohel', 'SST', 98)\n",
      "(92510133030, 'Dhruv Gohel', 'MATHS', 89)\n",
      "(92510133030, 'Dhurv Gohel', 'Python', 80)\n",
      "\n",
      "Average Mark per Student:\n",
      "Dhruv Gohel: 89.00\n"
     ]
    }
   ],
   "source": [
    "import sqlite3\n",
    "\n",
    "# Connect to or create the database\n",
    "conn = sqlite3.connect('student_record.db')\n",
    "cursor = conn.cursor()\n",
    "\n",
    "# Create the table (if not exists)\n",
    "cursor.execute('''\n",
    "CREATE TABLE IF NOT EXISTS student_record (\n",
    "    Enrollment INTEGER,\n",
    "    name TEXT NOT NULL,\n",
    "    subject TEXT NOT NULL,\n",
    "    Mark INTEGER NOT NULL,\n",
    "    PRIMARY KEY (Enrollment, subject)\n",
    ")\n",
    "''')\n",
    "conn.commit()\n",
    "\n",
    "# --- INSERT MULTIPLE SUBJECTS FOR SAME STUDENT ---\n",
    "# Example: one student with multiple subjects\n",
    "student_subjects = [\n",
    "    (92510133030, 'Dhruv Gohel', 'SST', 98),\n",
    "    (92510133030, 'Dhruv Gohel', 'MATHS', 89),\n",
    "    (92510133030, 'Dhurv Gohel', 'Python', 80)\n",
    "]\n",
    "\n",
    "# Insert all subject records for this student\n",
    "cursor.executemany('''\n",
    "INSERT OR REPLACE INTO student_record (Enrollment, name, subject, Mark)\n",
    "VALUES (?, ?, ?, ?)\n",
    "''', student_subjects)\n",
    "conn.commit()\n",
    "\n",
    "# --- FETCH ALL RECORDS ---\n",
    "cursor.execute('SELECT * FROM student_record')\n",
    "rows = cursor.fetchall()\n",
    "print(\"\\nAll Student Records:\")\n",
    "for row in rows:\n",
    "    print(row)\n",
    "\n",
    "# --- CALCULATE AVERAGE MARK PER STUDENT ---\n",
    "cursor.execute('''\n",
    "SELECT name, AVG(Mark) as avg_mark\n",
    "FROM student_record\n",
    "GROUP BY Enrollment\n",
    "''')\n",
    "print(\"\\nAverage Mark per Student:\")\n",
    "for name, avg_mark in cursor.fetchall():\n",
    "    print(f\"{name}: {avg_mark:.2f}\")\n",
    "\n",
    "# --- CLOSE CONNECTION ---\n",
    "conn.close()"
   ]
  }
 ],
 "metadata": {
  "kernelspec": {
   "display_name": "base",
   "language": "python",
   "name": "python3"
  },
  "language_info": {
   "codemirror_mode": {
    "name": "ipython",
    "version": 3
   },
   "file_extension": ".py",
   "mimetype": "text/x-python",
   "name": "python",
   "nbconvert_exporter": "python",
   "pygments_lexer": "ipython3",
   "version": "3.13.5"
  }
 },
 "nbformat": 4,
 "nbformat_minor": 5
}
